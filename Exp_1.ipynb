{
  "nbformat": 4,
  "nbformat_minor": 0,
  "metadata": {
    "colab": {
      "name": "Exp-1.ipynb",
      "provenance": [],
      "collapsed_sections": []
    },
    "kernelspec": {
      "name": "python3",
      "display_name": "Python 3"
    },
    "language_info": {
      "name": "python"
    }
  },
  "cells": [
    {
      "cell_type": "markdown",
      "source": [
        "Q1(a) Using a Conditional, write a relu function defined as follows:\n",
        "\n",
        "![relu.png](data:image/png;base64,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)"
      ],
      "metadata": {
        "id": "0WdOuhgO0KlR"
      }
    },
    {
      "cell_type": "code",
      "source": [
        "def relu1(x):  \n",
        "  if x>=0:\n",
        "    return x\n",
        "  else:\n",
        "    return 0\n",
        "\n",
        "relu1(-5)"
      ],
      "metadata": {
        "id": "Tl-hWGtTXmIL",
        "colab": {
          "base_uri": "https://localhost:8080/"
        },
        "outputId": "10b3d2c1-9b60-41bb-8429-52af3ad26335"
      },
      "execution_count": null,
      "outputs": [
        {
          "output_type": "execute_result",
          "data": {
            "text/plain": [
              "0"
            ]
          },
          "metadata": {},
          "execution_count": 6
        }
      ]
    },
    {
      "cell_type": "markdown",
      "source": [
        "Q1(b) Rewrite the relu function using np.maximum. Check that it works on\n",
        "both a single value and on an array of values."
      ],
      "metadata": {
        "id": "XOYDNA0_2GyQ"
      }
    },
    {
      "cell_type": "code",
      "source": [
        "import numpy as np\n",
        "\n",
        "def relu2(x):\n",
        "  return (np.maximum(0, x))\n",
        "\n",
        "arr = np.array([-1, -2, 3, 4, 0])\n",
        "relu2(arr)"
      ],
      "metadata": {
        "colab": {
          "base_uri": "https://localhost:8080/"
        },
        "id": "TcqU7LqE1XU5",
        "outputId": "f8d18e9a-b276-492e-e73d-3b229756b2d1"
      },
      "execution_count": null,
      "outputs": [
        {
          "output_type": "execute_result",
          "data": {
            "text/plain": [
              "array([0, 0, 3, 4, 0])"
            ]
          },
          "metadata": {},
          "execution_count": 5
        }
      ]
    },
    {
      "cell_type": "markdown",
      "source": [
        "Q1(c) Write the Euclidean norm of a vector (1d array) using NumPy (without for loop)"
      ],
      "metadata": {
        "id": "IHBv8Xn_1YWI"
      }
    },
    {
      "cell_type": "code",
      "source": [
        "import math\n",
        "def euclidian_norm(v):\n",
        "  ans=0\n",
        "  for i in v:\n",
        "    ans+=i**2\n",
        "  return math.sqrt(ans)\n",
        "\n",
        "vector=[1,2,3,4,5]\n",
        "euclidian_norm(vector)"
      ],
      "metadata": {
        "id": "ETBIMibZjB08"
      },
      "execution_count": null,
      "outputs": []
    }
  ]
}